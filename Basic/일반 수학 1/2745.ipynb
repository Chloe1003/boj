{
 "cells": [
  {
   "cell_type": "code",
   "execution_count": 35,
   "metadata": {},
   "outputs": [],
   "source": [
    "n, b = input().split()\n",
    "b = int(b)\n",
    "import string\n",
    "value = {}\n",
    "alphabet = string.ascii_uppercase\n",
    "for i in range(len(alphabet)):\n",
    "    value.update({alphabet[i]:10+i})\n",
    "result = 0\n",
    "for i in range(len(n)):\n",
    "    if b < 10:\n",
    "        result += int(n[len(n)-1-i]) * (b**i) \n",
    "    else:\n",
    "        result += (value[n[len(n)-1-i]] * (b**i))\n",
    "print(result)    "
   ]
  },
  {
   "cell_type": "code",
   "execution_count": 46,
   "metadata": {},
   "outputs": [
    {
     "name": "stdout",
     "output_type": "stream",
     "text": [
      "60466175\n"
     ]
    }
   ],
   "source": [
    "n, b = input().split()\n",
    "b = int(b)\n",
    "number = '0123456789ABCDEFGHIJKLMNOPQRSTUVWXYZ'\n",
    "result = 0\n",
    "\n",
    "for i in range(len(n)):\n",
    "    result += number.index(n[len(n)-1-i]) * (b**i)\n",
    "print(result)"
   ]
  },
  {
   "cell_type": "code",
   "execution_count": null,
   "metadata": {},
   "outputs": [],
   "source": [
    "n, b = input().split()\n",
    "n = ''.join(reversed(n))\n",
    "b = int(b)\n",
    "number = '0123456789ABCDEFGHIJKLMNOPQRSTUVWXYZ'\n",
    "result = 0\n",
    "\n",
    "for i in range(len(n)-1, -1, -1): # 순서를 반대로 \n",
    "    result += number.index(n[i]) * (b**i)\n",
    "print(result)"
   ]
  }
 ],
 "metadata": {
  "kernelspec": {
   "display_name": "base",
   "language": "python",
   "name": "python3"
  },
  "language_info": {
   "codemirror_mode": {
    "name": "ipython",
    "version": 3
   },
   "file_extension": ".py",
   "mimetype": "text/x-python",
   "name": "python",
   "nbconvert_exporter": "python",
   "pygments_lexer": "ipython3",
   "version": "3.9.12"
  },
  "orig_nbformat": 4
 },
 "nbformat": 4,
 "nbformat_minor": 2
}
