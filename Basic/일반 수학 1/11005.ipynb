{
 "cells": [
  {
   "cell_type": "code",
   "execution_count": 132,
   "metadata": {},
   "outputs": [],
   "source": [
    "n, b = map(int, input().split())"
   ]
  },
  {
   "cell_type": "code",
   "execution_count": 112,
   "metadata": {},
   "outputs": [],
   "source": [
    "from string import ascii_uppercase\n",
    "num_alphabet = {}\n",
    "num = 10\n",
    "for i in ascii_uppercase:\n",
    "    num_alphabet[num] = i\n",
    "    num += 1"
   ]
  },
  {
   "cell_type": "code",
   "execution_count": 113,
   "metadata": {},
   "outputs": [],
   "source": [
    "b_num = []\n",
    "while n >= b : \n",
    "    if n%b>=10: \n",
    "        b_num.append(num_alphabet.get(n%b))\n",
    "    else:\n",
    "        b_num.append(n%b)\n",
    "    n = n//b\n",
    "    \n",
    "if n>=10:\n",
    "    b_num.append(num_alphabet.get(n%b))\n",
    "else:\n",
    "    b_num.append(n)"
   ]
  },
  {
   "cell_type": "code",
   "execution_count": 123,
   "metadata": {},
   "outputs": [
    {
     "name": "stdout",
     "output_type": "stream",
     "text": [
      "ZZZZZ\n"
     ]
    }
   ],
   "source": [
    "print(*b_num[::-1], sep='')"
   ]
  },
  {
   "cell_type": "code",
   "execution_count": 135,
   "metadata": {},
   "outputs": [
    {
     "name": "stdout",
     "output_type": "stream",
     "text": [
      "\n"
     ]
    }
   ],
   "source": [
    "# 다른 풀이\n",
    "n, b = map(int, input().split())\n",
    "s = ''\n",
    "arr = \"0123456789ABCDEFGHIJKLMNOPQRSTUVWXYZ\"\n",
    "while n:\n",
    "    s += arr[n%b]\n",
    "    n = n//b\n",
    "\n",
    "print(s[::-1])"
   ]
  }
 ],
 "metadata": {
  "kernelspec": {
   "display_name": "base",
   "language": "python",
   "name": "python3"
  },
  "language_info": {
   "codemirror_mode": {
    "name": "ipython",
    "version": 3
   },
   "file_extension": ".py",
   "mimetype": "text/x-python",
   "name": "python",
   "nbconvert_exporter": "python",
   "pygments_lexer": "ipython3",
   "version": "3.10.9"
  },
  "orig_nbformat": 4
 },
 "nbformat": 4,
 "nbformat_minor": 2
}
