{
 "cells": [
  {
   "cell_type": "code",
   "execution_count": 80,
   "metadata": {},
   "outputs": [
    {
     "name": "stdout",
     "output_type": "stream",
     "text": [
      "9/6\n"
     ]
    }
   ],
   "source": [
    "x = int(input())\n",
    "# 대각선으로 1씩 늘어남\n",
    "# 몇 번째 줄인지 파악하기 > 1~n 까지의 합\n",
    "num = []\n",
    "for i in range(1, int(x**(1/2))+1):\n",
    "    num.append(int(i*(i+1)/2))\n",
    "for i in range(len(num)-1):\n",
    "    if num[i]<x and num[i+1]>=x: \n",
    "        row = i+2\n",
    "        order = x-num[i]\n",
    "if row%2==1: # 홀수: row/1 시작, -1, +1 \n",
    "    print('{}/{}'.format(row-(order-1),order))\n",
    "else: # 짝수: 1/row 시작 +1, -1\n",
    "    print('{}/{}'.format(order, row-(order-1)))"
   ]
  },
  {
   "cell_type": "code",
   "execution_count": 14,
   "metadata": {},
   "outputs": [
    {
     "name": "stdout",
     "output_type": "stream",
     "text": [
      "2/2\n"
     ]
    }
   ],
   "source": [
    "x = int(input())\n",
    "i = 1\n",
    "while True: # 몇 번째 줄인지 파악하기 > 1~n 까지의 합\n",
    "    if i*(i-1)/2 < x and i*(i+1)/2 >= x :\n",
    "        row, location = i, int(x-i*(i-1)/2)\n",
    "        break\n",
    "    else : \n",
    "        i += 1\n",
    "if row%2==1: # 홀수: row/1 시작, -1, +1 \n",
    "    print('{}/{}'.format(row-(location-1),location))\n",
    "else: # 짝수: 1/row 시작 +1, -1\n",
    "    print('{}/{}'.format(location, row-(location-1)))"
   ]
  }
 ],
 "metadata": {
  "kernelspec": {
   "display_name": "base",
   "language": "python",
   "name": "python3"
  },
  "language_info": {
   "codemirror_mode": {
    "name": "ipython",
    "version": 3
   },
   "file_extension": ".py",
   "mimetype": "text/x-python",
   "name": "python",
   "nbconvert_exporter": "python",
   "pygments_lexer": "ipython3",
   "version": "3.10.9"
  },
  "orig_nbformat": 4
 },
 "nbformat": 4,
 "nbformat_minor": 2
}
