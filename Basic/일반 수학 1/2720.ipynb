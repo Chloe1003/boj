{
 "cells": [
  {
   "cell_type": "code",
   "execution_count": 7,
   "metadata": {},
   "outputs": [
    {
     "name": "stdout",
     "output_type": "stream",
     "text": [
      "4 2 0 4\n",
      "1 0 0 0\n",
      "7 1 1 4\n"
     ]
    }
   ],
   "source": [
    "case = int(input())\n",
    "for i in range(case):\n",
    "    cent = int(input())\n",
    "    quarter = cent//25\n",
    "    dime = (cent-quarter*25)//10\n",
    "    nickel = (cent-quarter*25-dime*10)//5\n",
    "    penny = (cent-quarter*25-dime*10-nickel*5)//1\n",
    "    print(quarter, dime, nickel, penny)"
   ]
  },
  {
   "cell_type": "code",
   "execution_count": 11,
   "metadata": {},
   "outputs": [
    {
     "name": "stdout",
     "output_type": "stream",
     "text": [
      "4 2 0 4\n",
      "1 0 0 0\n",
      "7 1 1 4\n"
     ]
    }
   ],
   "source": [
    "case = int(input())\n",
    "for i in range(case):\n",
    "    cent = int(input())\n",
    "    print(cent//25, (cent%25)//10, ((cent%25)%10)//5, ((cent%25)%10)%5)"
   ]
  }
 ],
 "metadata": {
  "kernelspec": {
   "display_name": "base",
   "language": "python",
   "name": "python3"
  },
  "language_info": {
   "codemirror_mode": {
    "name": "ipython",
    "version": 3
   },
   "file_extension": ".py",
   "mimetype": "text/x-python",
   "name": "python",
   "nbconvert_exporter": "python",
   "pygments_lexer": "ipython3",
   "version": "3.9.12"
  },
  "orig_nbformat": 4
 },
 "nbformat": 4,
 "nbformat_minor": 2
}
