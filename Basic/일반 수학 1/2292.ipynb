{
 "cells": [
  {
   "cell_type": "code",
   "execution_count": null,
   "metadata": {},
   "outputs": [],
   "source": [
    "n = int(input())\n",
    "n -= 1\n",
    "step = 1\n",
    "while n > 0 :\n",
    "    n = n - 6*step\n",
    "    step += 1\n",
    "\n",
    "print(step)"
   ]
  },
  {
   "cell_type": "markdown",
   "metadata": {},
   "source": [
    "lv 1 - 1 : 1개 \n",
    "lv 2 - 2~7 : 6개 = 6 * 1 / 1< x <=1+6*1\n",
    "lv 3 - 8~19 : 12개 = 6 * 2 / 1+6*1 < x <= 1+6*1+6*2\n",
    "lv 4 - 20~37 : 18개 = 6 * 3 / 1+6*1+6*2 < x <= 1+6*1+6*2+6*3\n",
    "lv 5 - 38~61 : 24개\n",
    "-> 해당 숫자가 몇 번째 레벨에 해당하는지 알면 구할 수 있음"
   ]
  },
  {
   "cell_type": "code",
   "execution_count": 40,
   "metadata": {},
   "outputs": [
    {
     "name": "stdout",
     "output_type": "stream",
     "text": [
      "6\n"
     ]
    }
   ],
   "source": [
    "n = 62\n",
    "lv = 1\n",
    "n = n -1\n",
    "while n > 0:\n",
    "    n = n - 6*lv\n",
    "    lv += 1\n",
    "\n",
    "print(lv)"
   ]
  }
 ],
 "metadata": {
  "kernelspec": {
   "display_name": "base",
   "language": "python",
   "name": "python3"
  },
  "language_info": {
   "codemirror_mode": {
    "name": "ipython",
    "version": 3
   },
   "file_extension": ".py",
   "mimetype": "text/x-python",
   "name": "python",
   "nbconvert_exporter": "python",
   "pygments_lexer": "ipython3",
   "version": "3.10.9"
  },
  "orig_nbformat": 4
 },
 "nbformat": 4,
 "nbformat_minor": 2
}
