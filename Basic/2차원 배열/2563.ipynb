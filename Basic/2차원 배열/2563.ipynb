{
 "cells": [
  {
   "cell_type": "code",
   "execution_count": 17,
   "metadata": {},
   "outputs": [],
   "source": [
    "num = int(input())\n",
    "location = []\n",
    "for _ in range(num):\n",
    "    location.append(list(map(int, input().split())))\n",
    "overlap = 0\n",
    "for i in range(num-1):\n",
    "    for j in range(1, num):\n",
    "        if 0 < abs(location[i][0] - location[j][0]) < 10:\n",
    "            x = 10 - abs(location[i][0] - location[j][0])\n",
    "            y = 10 - abs(location[i][1] - location[j][1])\n",
    "            overlap += x*y\n",
    "print(300 - overlap)        \n",
    "\n",
    "# 전체 넓이 - 겹치는 부분 넓이\n",
    "# 겹치는 부분을 어떻게 구하는가?\n",
    "# 먼저 x 축만 생각해보자\n",
    "# 2개씩 짝지어서 뺐을 때, 10이상이면 겹치지 않음. 10보다 작으면 겹침\n",
    "# 얼마나 겹치는가? \n",
    "# 10 - abs(3-5) = 8 만큼 겹침\n",
    "# 그 다음 y 축을 생각해보자\n",
    "# 10 - abs(7-2) = 5 만큼 겹침\n",
    "# 따라서 총 겹치는 부분은 40\n",
    "# 300 - 40 = 260\n",
    "# 틀림 -> 세 면이 겹치는 경우를 고려하지 않음"
   ]
  },
  {
   "cell_type": "code",
   "execution_count": 36,
   "metadata": {},
   "outputs": [
    {
     "name": "stdout",
     "output_type": "stream",
     "text": [
      "260\n"
     ]
    }
   ],
   "source": [
    "num = int(input())\n",
    "arr = [[0]*100 for _ in range(100)] # 도화지 범위를 초기화한다\n",
    "for _ in range(num):\n",
    "    x, y = map(int, input().split()) # 왼쪽 아래 x, y 좌표값 받기\n",
    "\n",
    "    for row in range(x, x+10): # x축에서 이동\n",
    "        for col in range(y, y+10): # y축에서 이동\n",
    "            arr[row][col] = 1 # 색종이가 있는 부분을 0에서 1로 값을 바꿔준다\n",
    "\n",
    "result = 0\n",
    "for k in range(100): # 전체 도화지를 돌면서 \n",
    "    result += arr[k].count(1) # 1의 개수를 센다\n",
    "\n",
    "print(result)\n"
   ]
  }
 ],
 "metadata": {
  "kernelspec": {
   "display_name": "base",
   "language": "python",
   "name": "python3"
  },
  "language_info": {
   "codemirror_mode": {
    "name": "ipython",
    "version": 3
   },
   "file_extension": ".py",
   "mimetype": "text/x-python",
   "name": "python",
   "nbconvert_exporter": "python",
   "pygments_lexer": "ipython3",
   "version": "3.9.12"
  },
  "orig_nbformat": 4
 },
 "nbformat": 4,
 "nbformat_minor": 2
}
