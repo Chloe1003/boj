{
 "cells": [
  {
   "cell_type": "code",
   "execution_count": 4,
   "metadata": {},
   "outputs": [],
   "source": [
    "arr = []\n",
    "for _ in range(9):\n",
    "    arr.append(list(map(int, input().split())))\n",
    "arr_max_list = []\n",
    "for i in range(9):\n",
    "    arr_max_list.append(max(arr[i]))\n",
    "arr_max = max(arr_max_list)\n",
    "print(arr_max)\n",
    "print(str(arr_max_list.index(arr_max)+1)+' '+str(arr[arr_max_list.index(arr_max)].index(arr_max)+1))"
   ]
  },
  {
   "cell_type": "code",
   "execution_count": null,
   "metadata": {},
   "outputs": [],
   "source": [
    "# 다른 풀이\n",
    "l=[]\n",
    "for _ in range(9):\n",
    "    l.extend(list(map(int, input().split())))\n",
    "v=max(l)\n",
    "idx=l.index(v)\n",
    "print(v)\n",
    "print(idx//9+1,idx%9+1)"
   ]
  }
 ],
 "metadata": {
  "kernelspec": {
   "display_name": "base",
   "language": "python",
   "name": "python3"
  },
  "language_info": {
   "codemirror_mode": {
    "name": "ipython",
    "version": 3
   },
   "file_extension": ".py",
   "mimetype": "text/x-python",
   "name": "python",
   "nbconvert_exporter": "python",
   "pygments_lexer": "ipython3",
   "version": "3.9.12"
  },
  "orig_nbformat": 4
 },
 "nbformat": 4,
 "nbformat_minor": 2
}
