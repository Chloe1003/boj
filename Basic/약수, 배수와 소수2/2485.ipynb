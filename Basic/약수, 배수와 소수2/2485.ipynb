{
 "cells": [
  {
   "cell_type": "code",
   "execution_count": 23,
   "metadata": {},
   "outputs": [
    {
     "name": "stdout",
     "output_type": "stream",
     "text": [
      "5\n"
     ]
    }
   ],
   "source": [
    "import math\n",
    "\n",
    "n = int(input())\n",
    "tree = []\n",
    "span = []\n",
    "for i in range(n):\n",
    "    tree.append(int(input()))\n",
    "    if i > 0 :\n",
    "        span.append(tree[i]-tree[i-1])\n",
    "        \n",
    "span_set = list(set(span))\n",
    "g = span_set[0]\n",
    "for i in range(1, len(span_set)):\n",
    "    g = math.gcd(g, span_set[i])\n",
    "\n",
    "#  둘 사이에 심을 가로수 개수 : 간격 // 최대공약수 - 1\n",
    "result = 0\n",
    "for j in span:\n",
    "    result += j // g - 1\n",
    "print(result)"
   ]
  }
 ],
 "metadata": {
  "kernelspec": {
   "display_name": "base",
   "language": "python",
   "name": "python3"
  },
  "language_info": {
   "codemirror_mode": {
    "name": "ipython",
    "version": 3
   },
   "file_extension": ".py",
   "mimetype": "text/x-python",
   "name": "python",
   "nbconvert_exporter": "python",
   "pygments_lexer": "ipython3",
   "version": "3.10.9"
  }
 },
 "nbformat": 4,
 "nbformat_minor": 2
}
