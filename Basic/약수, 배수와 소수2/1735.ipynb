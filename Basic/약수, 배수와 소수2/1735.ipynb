{
 "cells": [
  {
   "cell_type": "code",
   "execution_count": 7,
   "metadata": {},
   "outputs": [
    {
     "name": "stdout",
     "output_type": "stream",
     "text": [
      "13 20\n"
     ]
    }
   ],
   "source": [
    "import math\n",
    "a, b = map(int, input().split())\n",
    "x, y = map(int, input().split())\n",
    "lcm = math.lcm(b, y)\n",
    "add = int(a*(lcm/b)+x*(lcm/y))\n",
    "print(add, lcm)\n",
    "# 최소공배수여도 약분될 수 있음 > 약분을 한 번 더 해줘야함"
   ]
  },
  {
   "cell_type": "code",
   "execution_count": 8,
   "metadata": {},
   "outputs": [
    {
     "name": "stdout",
     "output_type": "stream",
     "text": [
      "31 35\n"
     ]
    }
   ],
   "source": [
    "import math\n",
    "a, b = map(int, input().split())\n",
    "x, y = map(int, input().split())\n",
    "up = a*y+x*b\n",
    "under = b*y\n",
    "gcd = math.gcd(up, under)\n",
    "print(up//gcd, under//gcd)"
   ]
  }
 ],
 "metadata": {
  "kernelspec": {
   "display_name": "base",
   "language": "python",
   "name": "python3"
  },
  "language_info": {
   "codemirror_mode": {
    "name": "ipython",
    "version": 3
   },
   "file_extension": ".py",
   "mimetype": "text/x-python",
   "name": "python",
   "nbconvert_exporter": "python",
   "pygments_lexer": "ipython3",
   "version": "3.10.9"
  }
 },
 "nbformat": 4,
 "nbformat_minor": 2
}
