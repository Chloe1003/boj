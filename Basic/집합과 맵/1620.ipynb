{
 "cells": [
  {
   "cell_type": "code",
   "execution_count": 6,
   "metadata": {},
   "outputs": [
    {
     "name": "stdout",
     "output_type": "stream",
     "text": [
      "1\n",
      "Charmander\n"
     ]
    }
   ],
   "source": [
    "n, m = map(int, input().split())\n",
    "p_dict = {}\n",
    "for i in range(1, n+1):\n",
    "    p_dict[input()] = i\n",
    "p_dict_reverse = {val:key for key, val in p_dict.items()}\n",
    "for _ in range(m):\n",
    "    name = input()\n",
    "    print(p_dict.get(name) if name in p_dict else p_dict_reverse.get(int(name)))       "
   ]
  },
  {
   "cell_type": "code",
   "execution_count": null,
   "metadata": {},
   "outputs": [],
   "source": [
    "import sys\n",
    "input = sys.stdin.readline\n",
    "n, m = map(int, input().split())\n",
    "p_dict = {}\n",
    "for i in range(1, n+1):\n",
    "    p = input().rstrip()\n",
    "    p_dict[p] = i\n",
    "p_dict_reverse = {val:key for key, val in p_dict.items()}\n",
    "for _ in range(m):\n",
    "    name = input().rstrip()\n",
    "    print(p_dict_reverse[int(name)] if name.isdigit() else p_dict[name])"
   ]
  }
 ],
 "metadata": {
  "kernelspec": {
   "display_name": "base",
   "language": "python",
   "name": "python3"
  },
  "language_info": {
   "codemirror_mode": {
    "name": "ipython",
    "version": 3
   },
   "file_extension": ".py",
   "mimetype": "text/x-python",
   "name": "python",
   "nbconvert_exporter": "python",
   "pygments_lexer": "ipython3",
   "version": "3.10.9"
  },
  "orig_nbformat": 4
 },
 "nbformat": 4,
 "nbformat_minor": 2
}
