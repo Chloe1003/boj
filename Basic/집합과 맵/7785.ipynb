{
 "cells": [
  {
   "cell_type": "code",
   "execution_count": 13,
   "metadata": {},
   "outputs": [
    {
     "name": "stdout",
     "output_type": "stream",
     "text": [
      "Askar\n",
      "Artem\n"
     ]
    }
   ],
   "source": [
    "n = int(input())\n",
    "worker = {}\n",
    "for _ in range(n):\n",
    "    name, status = input().split()\n",
    "    worker[name] = status\n",
    "worker_sort = dict(sorted(worker.items(), reverse=True))\n",
    "for k, v in worker_sort.items():\n",
    "    if v =='enter':\n",
    "        print(k)"
   ]
  },
  {
   "cell_type": "code",
   "execution_count": null,
   "metadata": {},
   "outputs": [
    {
     "name": "stdout",
     "output_type": "stream",
     "text": [
      "Askar\n",
      "Artem\n"
     ]
    }
   ],
   "source": [
    "n = int(input())\n",
    "worker = {}\n",
    "for _ in range(n):\n",
    "    name, status = input().split()\n",
    "    worker[name] = status\n",
    "worker_sort = dict(sorted(worker.items(), reverse=True))\n",
    "for k, v in worker_sort.items():\n",
    "    if v =='enter':\n",
    "        print(k)"
   ]
  }
 ],
 "metadata": {
  "kernelspec": {
   "display_name": "base",
   "language": "python",
   "name": "python3"
  },
  "language_info": {
   "codemirror_mode": {
    "name": "ipython",
    "version": 3
   },
   "file_extension": ".py",
   "mimetype": "text/x-python",
   "name": "python",
   "nbconvert_exporter": "python",
   "pygments_lexer": "ipython3",
   "version": "3.10.9"
  },
  "orig_nbformat": 4
 },
 "nbformat": 4,
 "nbformat_minor": 2
}
