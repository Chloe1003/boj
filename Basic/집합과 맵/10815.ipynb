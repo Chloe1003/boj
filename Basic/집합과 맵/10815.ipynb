{
 "cells": [
  {
   "cell_type": "code",
   "execution_count": 4,
   "metadata": {},
   "outputs": [
    {
     "name": "stdout",
     "output_type": "stream",
     "text": [
      "1 0 0 1 1 0 0 1 "
     ]
    }
   ],
   "source": [
    "n = int(input())\n",
    "cards = list(map(int, input().split()))\n",
    "m = int(input())\n",
    "compare_cards = list(map(int, input().split()))\n",
    "for card in compare_cards:\n",
    "    print(1 if card in cards else 0, end=' ')\n",
    "\n",
    "# 시간초과"
   ]
  },
  {
   "cell_type": "code",
   "execution_count": 8,
   "metadata": {},
   "outputs": [
    {
     "name": "stdout",
     "output_type": "stream",
     "text": [
      "1 0 0 1 1 0 0 1\n"
     ]
    }
   ],
   "source": [
    "n = int(input())\n",
    "cards = list(map(int, input().split()))\n",
    "m = int(input())\n",
    "compare_cards = list(map(int, input().split()))\n",
    "def compare(x):\n",
    "    return 1 if x in cards else 0\n",
    "print(*list(map(compare,compare_cards)), sep=' ')\n",
    "\n",
    "# 시간초과"
   ]
  },
  {
   "cell_type": "code",
   "execution_count": null,
   "metadata": {},
   "outputs": [],
   "source": [
    "n = int(input())\n",
    "cards = list(map(int, input().split()))\n",
    "m = int(input())\n",
    "compare_cards = list(map(int, input().split()))\n",
    "card_dict = {cards[i]:1 for i in range(len(cards))}\n",
    "for card in compare_cards:\n",
    "    print(0 if card not in card_dict else card_dict[card] , end=' ')"
   ]
  },
  {
   "cell_type": "code",
   "execution_count": 19,
   "metadata": {},
   "outputs": [
    {
     "data": {
      "text/plain": [
       "[10, 9, -5, 2, 3, 4, 5, -10]"
      ]
     },
     "execution_count": 19,
     "metadata": {},
     "output_type": "execute_result"
    }
   ],
   "source": [
    "compare_cards"
   ]
  },
  {
   "cell_type": "code",
   "execution_count": 22,
   "metadata": {},
   "outputs": [
    {
     "name": "stdout",
     "output_type": "stream",
     "text": [
      "1 0 0 1 1 0 0 1 "
     ]
    }
   ],
   "source": [
    "# 이진 탐색 방법 : 시간 복잡도 O(log N)\n",
    "# bisect.bisect_left(정렬된 리스트, target): 정렬된 리스트에서 target을 insert할 떄의 위치\n",
    "# bisect.bisect_right(정렬된 리스트, target): 정렬된 리스트에서 target을 insert할 때의 위치 +1 == bisect.bisect와 동일\n",
    "# bisect.bisect_right(정렬된 리스트, target) - bisect.bisect_left(정렬된 리스트, target)으로 특정 값이 몇 번 등장하는지 확인할 수 있음\n",
    "\n",
    "import bisect\n",
    "n = int(input())\n",
    "cards = list(map(int, input().split()))\n",
    "m = int(input())\n",
    "compare_cards = list(map(int, input().split()))\n",
    "cards.sort()\n",
    "for card in compare_cards:\n",
    "    l_index = bisect.bisect_left(cards, card)\n",
    "    r_index = bisect.bisect_right(cards, card)\n",
    "    print(r_index-l_index, end=' ') # cards에 값이 있다면 한 번 등장해서 1을 반환, 없다면 0을 반환"
   ]
  }
 ],
 "metadata": {
  "kernelspec": {
   "display_name": "base",
   "language": "python",
   "name": "python3"
  },
  "language_info": {
   "codemirror_mode": {
    "name": "ipython",
    "version": 3
   },
   "file_extension": ".py",
   "mimetype": "text/x-python",
   "name": "python",
   "nbconvert_exporter": "python",
   "pygments_lexer": "ipython3",
   "version": "3.10.9"
  },
  "orig_nbformat": 4
 },
 "nbformat": 4,
 "nbformat_minor": 2
}
