{
 "cells": [
  {
   "cell_type": "code",
   "execution_count": 9,
   "metadata": {},
   "outputs": [],
   "source": [
    "n, m = map(int, input().split())\n",
    "names = {}\n",
    "for _ in range(n+m):\n",
    "    name = input()\n",
    "    try:\n",
    "        names[name] += 1\n",
    "    except:\n",
    "        names[name] = 1\n",
    "dbj = []\n",
    "for k, v in names.items():\n",
    "    if v > 1 :\n",
    "        dbj.append(k)\n",
    "dbj.sort()\n",
    "print(len(dbj), *dbj, sep='\\n')"
   ]
  },
  {
   "cell_type": "code",
   "execution_count": null,
   "metadata": {},
   "outputs": [],
   "source": [
    "# set의 교집합 : s1 & s2\n",
    "n, m = map(int, input().split())\n",
    "dj = set()\n",
    "bj = set()\n",
    "for _ in range(n):\n",
    "    dj.add(input())\n",
    "for _ in range(m):\n",
    "    bj.add(input())\n",
    "dbj = sorted(list(dj & bj))\n",
    "print(len(dbj), *dbj, sep='\\n')"
   ]
  }
 ],
 "metadata": {
  "kernelspec": {
   "display_name": "base",
   "language": "python",
   "name": "python3"
  },
  "language_info": {
   "codemirror_mode": {
    "name": "ipython",
    "version": 3
   },
   "file_extension": ".py",
   "mimetype": "text/x-python",
   "name": "python",
   "nbconvert_exporter": "python",
   "pygments_lexer": "ipython3",
   "version": "3.10.9"
  },
  "orig_nbformat": 4
 },
 "nbformat": 4,
 "nbformat_minor": 2
}
