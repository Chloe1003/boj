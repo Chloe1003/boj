{
 "cells": [
  {
   "cell_type": "code",
   "execution_count": 1,
   "metadata": {},
   "outputs": [
    {
     "name": "stdout",
     "output_type": "stream",
     "text": [
      "4\n"
     ]
    }
   ],
   "source": [
    "n, m = map(int, input().split())\n",
    "s = []\n",
    "for _ in range(n):\n",
    "    s.append(input())\n",
    "num = 0\n",
    "for _ in range(m):\n",
    "    num += 1 if input() in s else 0\n",
    "print(num)\n",
    "\n",
    "# 시간초과"
   ]
  },
  {
   "cell_type": "code",
   "execution_count": 5,
   "metadata": {},
   "outputs": [
    {
     "name": "stdout",
     "output_type": "stream",
     "text": [
      "11\n"
     ]
    }
   ],
   "source": [
    "import bisect\n",
    "n, m = map(int, input().split())\n",
    "s = []\n",
    "for _ in range(n):\n",
    "    s.append(input())\n",
    "s_words = sorted(s)\n",
    "cnt = 0\n",
    "for _ in range(m):\n",
    "    word = input()\n",
    "    cnt += 1 if bisect.bisect_left(s_words, word) != bisect.bisect_right(s_words, word) else 0\n",
    "print(cnt)"
   ]
  },
  {
   "cell_type": "code",
   "execution_count": null,
   "metadata": {},
   "outputs": [],
   "source": [
    "# set을 이용한 풀이 \n",
    "n, m = map(int, input().split())\n",
    "s = set([input() for _ in range(n)])\n",
    "cnt = 0\n",
    "for _ in range(m):\n",
    "    t = input()\n",
    "    if t in s:\n",
    "        cnt += 1\n",
    "print(cnt)\n",
    "\n",
    "# list는 시간초과, set/dict는 list보다 시간복잡도가 낮음"
   ]
  }
 ],
 "metadata": {
  "kernelspec": {
   "display_name": "base",
   "language": "python",
   "name": "python3"
  },
  "language_info": {
   "codemirror_mode": {
    "name": "ipython",
    "version": 3
   },
   "file_extension": ".py",
   "mimetype": "text/x-python",
   "name": "python",
   "nbconvert_exporter": "python",
   "pygments_lexer": "ipython3",
   "version": "3.10.9"
  },
  "orig_nbformat": 4
 },
 "nbformat": 4,
 "nbformat_minor": 2
}
