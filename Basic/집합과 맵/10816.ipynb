{
 "cells": [
  {
   "cell_type": "code",
   "execution_count": 3,
   "metadata": {},
   "outputs": [
    {
     "name": "stdout",
     "output_type": "stream",
     "text": [
      "3 0 0 1 2 0 0 2 "
     ]
    }
   ],
   "source": [
    "import bisect\n",
    "n = int(input())\n",
    "cards = list(map(int, input().split()))\n",
    "m = int(input())\n",
    "compare_cards = list(map(int, input().split()))\n",
    "cards.sort()\n",
    "for card in compare_cards:\n",
    "    l_index = bisect.bisect_left(cards, card)\n",
    "    r_index = bisect.bisect_right(cards, card)\n",
    "    print(r_index-l_index, end=' ') # cards에 값이 있다면 개수만큼 반환, 없다면 0을 반환"
   ]
  }
 ],
 "metadata": {
  "kernelspec": {
   "display_name": "base",
   "language": "python",
   "name": "python3"
  },
  "language_info": {
   "codemirror_mode": {
    "name": "ipython",
    "version": 3
   },
   "file_extension": ".py",
   "mimetype": "text/x-python",
   "name": "python",
   "nbconvert_exporter": "python",
   "pygments_lexer": "ipython3",
   "version": "3.10.9"
  },
  "orig_nbformat": 4
 },
 "nbformat": 4,
 "nbformat_minor": 2
}
