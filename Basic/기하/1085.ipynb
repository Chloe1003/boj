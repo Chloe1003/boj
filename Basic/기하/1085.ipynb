{
 "cells": [
  {
   "cell_type": "code",
   "execution_count": 13,
   "metadata": {},
   "outputs": [
    {
     "name": "stdout",
     "output_type": "stream",
     "text": [
      "161\n"
     ]
    }
   ],
   "source": [
    "# Q1 -> 틀림\n",
    "x, y, w, h = map(int, input().split())\n",
    "# 어느 쪽이 가장 거리가 짧은지 판단해야 함 -> w, h 의 절반 지점에서 x, y가 어디에 있는지 확인\n",
    "x_distance = x if x < (w/2) else w-x\n",
    "y_distance = y if x < (h/2) else h-y\n",
    "print(min(x_distance, y_distance))"
   ]
  },
  {
   "cell_type": "code",
   "execution_count": null,
   "metadata": {},
   "outputs": [],
   "source": [
    "# x, y 좌표와 경계선까지의 거리를 모두 구해서 최소값을 주면 됨\n",
    "x, y, w, h = map(int, input().split())\n",
    "print(min(x, y, w-x, h-y))"
   ]
  }
 ],
 "metadata": {
  "kernelspec": {
   "display_name": "base",
   "language": "python",
   "name": "python3"
  },
  "language_info": {
   "codemirror_mode": {
    "name": "ipython",
    "version": 3
   },
   "file_extension": ".py",
   "mimetype": "text/x-python",
   "name": "python",
   "nbconvert_exporter": "python",
   "pygments_lexer": "ipython3",
   "version": "3.10.9"
  },
  "orig_nbformat": 4
 },
 "nbformat": 4,
 "nbformat_minor": 2
}
