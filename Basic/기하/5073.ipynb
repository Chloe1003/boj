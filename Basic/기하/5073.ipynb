{
 "cells": [
  {
   "cell_type": "code",
   "execution_count": 16,
   "metadata": {},
   "outputs": [
    {
     "name": "stdout",
     "output_type": "stream",
     "text": [
      "Equilateral\n",
      "Scalene\n",
      "Invalid\n",
      "Isosceles\n"
     ]
    }
   ],
   "source": [
    "while True:\n",
    "    num = list(map(int, input().split()))\n",
    "    if num == [0, 0, 0]:\n",
    "        break\n",
    "    if max(num)>=sum(num)-max(num):\n",
    "        print('Invalid')\n",
    "    else: print({1:'Equilateral', 2:'Isosceles', 3:'Scalene'}[len(set(num))])"
   ]
  }
 ],
 "metadata": {
  "kernelspec": {
   "display_name": "base",
   "language": "python",
   "name": "python3"
  },
  "language_info": {
   "codemirror_mode": {
    "name": "ipython",
    "version": 3
   },
   "file_extension": ".py",
   "mimetype": "text/x-python",
   "name": "python",
   "nbconvert_exporter": "python",
   "pygments_lexer": "ipython3",
   "version": "3.10.9"
  },
  "orig_nbformat": 4
 },
 "nbformat": 4,
 "nbformat_minor": 2
}
