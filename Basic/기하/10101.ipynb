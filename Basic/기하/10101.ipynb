{
 "cells": [
  {
   "cell_type": "code",
   "execution_count": 3,
   "metadata": {},
   "outputs": [
    {
     "name": "stdout",
     "output_type": "stream",
     "text": [
      "Scalene\n"
     ]
    }
   ],
   "source": [
    "a, b, c = int(input()), int(input()), int(input())\n",
    "\n",
    "if a+b+c != 180:\n",
    "    print('Error')\n",
    "elif a==b==c==60:\n",
    "    print('Equilateral')\n",
    "elif a==b or b==c or c==a:\n",
    "    print('Isosceles')\n",
    "else:\n",
    "    print('Scalene')"
   ]
  },
  {
   "cell_type": "code",
   "execution_count": 6,
   "metadata": {},
   "outputs": [
    {
     "name": "stdout",
     "output_type": "stream",
     "text": [
      "Scalene\n"
     ]
    }
   ],
   "source": [
    "# 다른 풀이\n",
    "# set으로 중복을 제거한 후 개수로 판단\n",
    "a = [int(input()), int(input()), int(input())]\n",
    "if sum(a)==180:\n",
    "    print({1: 'Equilateral', 2:'Isosceles', 3:'Scalene'}[len(set(a))])\n",
    "else : print('Error')"
   ]
  }
 ],
 "metadata": {
  "kernelspec": {
   "display_name": "base",
   "language": "python",
   "name": "python3"
  },
  "language_info": {
   "codemirror_mode": {
    "name": "ipython",
    "version": 3
   },
   "file_extension": ".py",
   "mimetype": "text/x-python",
   "name": "python",
   "nbconvert_exporter": "python",
   "pygments_lexer": "ipython3",
   "version": "3.10.9"
  },
  "orig_nbformat": 4
 },
 "nbformat": 4,
 "nbformat_minor": 2
}
