{
 "cells": [
  {
   "cell_type": "code",
   "execution_count": 5,
   "metadata": {},
   "outputs": [
    {
     "name": "stdout",
     "output_type": "stream",
     "text": [
      "113\n"
     ]
    }
   ],
   "source": [
    "num = list(map(int,input().split()))\n",
    "# 주어진 숫자가 삼각형을 이루는 경우 : 더함\n",
    "if max(num)<sum(num)-max(num):\n",
    "    print(sum(num))\n",
    "# 주어진 숫자가 삼각형을 이루지 못하는 경우 가장 큰 둘레의 삼각형 : 작은 수들의 합 = 가장 큰 수 - 1    \n",
    "else :\n",
    "    print(2*(sum(num)-max(num))-1)"
   ]
  },
  {
   "cell_type": "code",
   "execution_count": 7,
   "metadata": {},
   "outputs": [
    {
     "name": "stdout",
     "output_type": "stream",
     "text": [
      "113\n"
     ]
    }
   ],
   "source": [
    "# 다른 풀이\n",
    "num = list(map(int,input().split()))\n",
    "print(min(sum(num), 2*(sum(num)-max(num))-1))"
   ]
  }
 ],
 "metadata": {
  "kernelspec": {
   "display_name": "base",
   "language": "python",
   "name": "python3"
  },
  "language_info": {
   "codemirror_mode": {
    "name": "ipython",
    "version": 3
   },
   "file_extension": ".py",
   "mimetype": "text/x-python",
   "name": "python",
   "nbconvert_exporter": "python",
   "pygments_lexer": "ipython3",
   "version": "3.10.9"
  },
  "orig_nbformat": 4
 },
 "nbformat": 4,
 "nbformat_minor": 2
}
