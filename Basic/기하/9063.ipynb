{
 "cells": [
  {
   "cell_type": "code",
   "execution_count": 37,
   "metadata": {},
   "outputs": [
    {
     "name": "stdout",
     "output_type": "stream",
     "text": [
      "9\n"
     ]
    }
   ],
   "source": [
    "n = int(input())\n",
    "loc = []\n",
    "for _ in range(n): loc.append(list(map(int, input().split())))\n",
    "\n",
    "# x, y 좌표 중 최소, 최댓값을 구해서 사이의 넓이를 구함\n",
    "min_x, max_x = min(list(zip(*loc))[0]), max(list(zip(*loc))[0])\n",
    "min_y, max_y = min(list(zip(*loc))[1]), max(list(zip(*loc))[1])\n",
    "\n",
    "print((max_x-min_x)*(max_y-min_y))"
   ]
  },
  {
   "cell_type": "code",
   "execution_count": 41,
   "metadata": {},
   "outputs": [
    {
     "name": "stdout",
     "output_type": "stream",
     "text": [
      "9\n"
     ]
    }
   ],
   "source": [
    "# 다른 풀이\n",
    "n = int(input())\n",
    "a, b = [], []\n",
    "for _ in range(n): \n",
    "    x, y = map(int, input().split())\n",
    "    a.append(x)\n",
    "    b.append(y)\n",
    "print((max(a)-min(a))*(max(b)-min(b)))"
   ]
  }
 ],
 "metadata": {
  "kernelspec": {
   "display_name": "base",
   "language": "python",
   "name": "python3"
  },
  "language_info": {
   "codemirror_mode": {
    "name": "ipython",
    "version": 3
   },
   "file_extension": ".py",
   "mimetype": "text/x-python",
   "name": "python",
   "nbconvert_exporter": "python",
   "pygments_lexer": "ipython3",
   "version": "3.10.9"
  },
  "orig_nbformat": 4
 },
 "nbformat": 4,
 "nbformat_minor": 2
}
