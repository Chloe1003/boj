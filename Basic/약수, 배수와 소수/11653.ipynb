{
 "cells": [
  {
   "cell_type": "code",
   "execution_count": null,
   "metadata": {},
   "outputs": [],
   "source": [
    "# A1 -> 시간초과\n",
    "# n 보다 작은 소수로 나누기 -> 작은 수 부터 차례로\n",
    "n = int(input())\n",
    "# 1. n 보다 작은 소수 구하기\n",
    "prime_numbers = []\n",
    "for i in range(2, n+1):\n",
    "    for j in range(2, i+1):\n",
    "        if j == i:\n",
    "            prime_numbers.append(i)    \n",
    "        elif i%j == 0:\n",
    "            break\n",
    "# 2. 소수로 n 나누기        \n",
    "res = []\n",
    "for numbers in prime_numbers:\n",
    "    while n%numbers == 0 :\n",
    "        res.append(numbers)\n",
    "        n = n/numbers           \n",
    "# 3. 출력\n",
    "print(*res, sep='\\n')        "
   ]
  },
  {
   "cell_type": "code",
   "execution_count": 44,
   "metadata": {},
   "outputs": [
    {
     "name": "stdout",
     "output_type": "stream",
     "text": [
      "2\n",
      "2\n",
      "2\n",
      "3\n",
      "3\n"
     ]
    }
   ],
   "source": [
    "# A2\n",
    "# n 보다 작은 수로 나누기\n",
    "n = int(input())\n",
    "if n == 1:\n",
    "    print('')\n",
    "res = []\n",
    "for i in range(2, n+1):\n",
    "    if n%i == 0: # 없어도 동작하지만 속도가 빨라짐\n",
    "        while n%i == 0:\n",
    "            res.append(i)\n",
    "            n = n/i\n",
    "print(*res, sep='\\n')"
   ]
  }
 ],
 "metadata": {
  "kernelspec": {
   "display_name": "base",
   "language": "python",
   "name": "python3"
  },
  "language_info": {
   "codemirror_mode": {
    "name": "ipython",
    "version": 3
   },
   "file_extension": ".py",
   "mimetype": "text/x-python",
   "name": "python",
   "nbconvert_exporter": "python",
   "pygments_lexer": "ipython3",
   "version": "3.10.9"
  },
  "orig_nbformat": 4
 },
 "nbformat": 4,
 "nbformat_minor": 2
}
