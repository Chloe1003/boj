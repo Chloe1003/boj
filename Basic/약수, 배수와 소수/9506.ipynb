{
 "cells": [
  {
   "cell_type": "markdown",
   "metadata": {},
   "source": [
    "1. 완전수 판단 \n",
    "2. 완전수인 경우 합으로 나타내기(오름차순)\n",
    "    아닌 경우 n is not perfect 출력"
   ]
  },
  {
   "cell_type": "code",
   "execution_count": 26,
   "metadata": {},
   "outputs": [
    {
     "name": "stdout",
     "output_type": "stream",
     "text": [
      "6 = 1 + 2 + 3\n",
      "6 = 1 + 2 + 3\n",
      "12  is NOT perfect.\n",
      "28 = 1 + 2 + 4 + 7 + 14\n"
     ]
    }
   ],
   "source": [
    "while True:\n",
    "    n = int(input())\n",
    "    if n == -1 :\n",
    "        break\n",
    "    num = [i for i in range(1, n) if n%i==0]\n",
    "    if sum(num) == n:\n",
    "        num = list(map(str, num))\n",
    "        print(n, '=', ' + '.join(num))\n",
    "    else : print(n, 'is NOT perfect.')"
   ]
  }
 ],
 "metadata": {
  "kernelspec": {
   "display_name": "base",
   "language": "python",
   "name": "python3"
  },
  "language_info": {
   "codemirror_mode": {
    "name": "ipython",
    "version": 3
   },
   "file_extension": ".py",
   "mimetype": "text/x-python",
   "name": "python",
   "nbconvert_exporter": "python",
   "pygments_lexer": "ipython3",
   "version": "3.10.9"
  },
  "orig_nbformat": 4
 },
 "nbformat": 4,
 "nbformat_minor": 2
}
