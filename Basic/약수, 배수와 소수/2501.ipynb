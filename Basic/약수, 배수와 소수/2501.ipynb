{
 "cells": [
  {
   "cell_type": "code",
   "execution_count": 19,
   "metadata": {},
   "outputs": [
    {
     "name": "stdout",
     "output_type": "stream",
     "text": [
      "3\n"
     ]
    }
   ],
   "source": [
    "n, k = map(int, input().split())\n",
    "num = []\n",
    "for i in range(n):\n",
    "    if n % (n-i) == 0:\n",
    "        num.append(n-i)\n",
    "print(num[::-1][k-1] if len(num)>= k else 0)"
   ]
  },
  {
   "cell_type": "markdown",
   "metadata": {},
   "source": [
    "n의 약수들 중 k번째로 작은 수 -> n의 약수 배열에서 k번째"
   ]
  },
  {
   "cell_type": "code",
   "execution_count": null,
   "metadata": {},
   "outputs": [],
   "source": [
    "# 다른풀이(일부 축약)\n",
    "n, k = map(int, input().split())\n",
    "num = [i for i in range(1, n+1) if n%i==0]\n",
    "print(num[k-1] if len(num)>=k else 0)"
   ]
  }
 ],
 "metadata": {
  "kernelspec": {
   "display_name": "base",
   "language": "python",
   "name": "python3"
  },
  "language_info": {
   "codemirror_mode": {
    "name": "ipython",
    "version": 3
   },
   "file_extension": ".py",
   "mimetype": "text/x-python",
   "name": "python",
   "nbconvert_exporter": "python",
   "pygments_lexer": "ipython3",
   "version": "3.10.9"
  },
  "orig_nbformat": 4
 },
 "nbformat": 4,
 "nbformat_minor": 2
}
