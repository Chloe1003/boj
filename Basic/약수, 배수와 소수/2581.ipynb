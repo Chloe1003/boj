{
 "cells": [
  {
   "cell_type": "code",
   "execution_count": 24,
   "metadata": {},
   "outputs": [
    {
     "name": "stdout",
     "output_type": "stream",
     "text": [
      "620\n",
      "61\n"
     ]
    }
   ],
   "source": [
    "m, n = int(input()), int(input())\n",
    "res = []\n",
    "for i in range(m, n+1):\n",
    "    k = i-1\n",
    "    while True:\n",
    "        if k == 0:\n",
    "            break\n",
    "        elif k == 1:\n",
    "            res.append(i)\n",
    "            break\n",
    "        elif i%k == 0:\n",
    "            break\n",
    "        else:\n",
    "            k -= 1\n",
    "if len(res)>0:\n",
    "    print(sum(res), min(res), sep='\\n') \n",
    "else:\n",
    "    print(-1)"
   ]
  },
  {
   "cell_type": "code",
   "execution_count": 29,
   "metadata": {},
   "outputs": [],
   "source": [
    "m, n = int(input()), int(input())\n",
    "res = []\n",
    "for i in range(m, n+1):\n",
    "    for j in range(1, i):\n",
    "        if i%j == 0:\n",
    "            break\n",
    "        elif j == i:\n",
    "            res.append(i)\n",
    "\n"
   ]
  },
  {
   "cell_type": "code",
   "execution_count": 30,
   "metadata": {},
   "outputs": [
    {
     "data": {
      "text/plain": [
       "[]"
      ]
     },
     "execution_count": 30,
     "metadata": {},
     "output_type": "execute_result"
    }
   ],
   "source": [
    "res"
   ]
  }
 ],
 "metadata": {
  "kernelspec": {
   "display_name": "base",
   "language": "python",
   "name": "python3"
  },
  "language_info": {
   "codemirror_mode": {
    "name": "ipython",
    "version": 3
   },
   "file_extension": ".py",
   "mimetype": "text/x-python",
   "name": "python",
   "nbconvert_exporter": "python",
   "pygments_lexer": "ipython3",
   "version": "3.10.9"
  },
  "orig_nbformat": 4
 },
 "nbformat": 4,
 "nbformat_minor": 2
}
