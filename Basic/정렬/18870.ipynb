{
 "cells": [
  {
   "cell_type": "code",
   "execution_count": null,
   "metadata": {},
   "outputs": [],
   "source": [
    "n = int(input())\n",
    "num = list(map(int, input().split()))\n",
    "result = []\n",
    "num_sort = sorted(set(num))\n",
    "for i in num:\n",
    "    result.append(num_sort.index(i))\n",
    "print(*result)\n",
    "\n",
    "# 시간초과\n",
    "# num_sort.index(i) 시간 복잡도 O(N)"
   ]
  },
  {
   "cell_type": "code",
   "execution_count": null,
   "metadata": {},
   "outputs": [],
   "source": [
    "# dict[i] 시간복잡도 O(1)\n",
    "import sys\n",
    "n = int(input())\n",
    "num = list(map(int, sys.stdin.readline().split()))\n",
    "num_sort = sorted(list(set(num)))\n",
    "num_dict = {num_sort[i]:i for i in range(len(num_sort))}\n",
    "for i in num:\n",
    "    print(num_dict[i], end=' ')"
   ]
  }
 ],
 "metadata": {
  "kernelspec": {
   "display_name": "base",
   "language": "python",
   "name": "python3"
  },
  "language_info": {
   "codemirror_mode": {
    "name": "ipython",
    "version": 3
   },
   "file_extension": ".py",
   "mimetype": "text/x-python",
   "name": "python",
   "nbconvert_exporter": "python",
   "pygments_lexer": "ipython3",
   "version": "3.10.9"
  },
  "orig_nbformat": 4
 },
 "nbformat": 4,
 "nbformat_minor": 2
}
