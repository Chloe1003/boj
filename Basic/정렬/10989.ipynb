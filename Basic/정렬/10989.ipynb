{
 "cells": [
  {
   "cell_type": "code",
   "execution_count": 1,
   "metadata": {},
   "outputs": [
    {
     "name": "stdout",
     "output_type": "stream",
     "text": [
      "1\n",
      "1\n",
      "2\n",
      "2\n",
      "3\n",
      "3\n",
      "4\n",
      "5\n",
      "5\n",
      "7\n"
     ]
    }
   ],
   "source": [
    "import sys\n",
    "num = []\n",
    "for _ in range(int(input())):\n",
    "    num.append(int(sys.stdin.readline()))\n",
    "num.sort()\n",
    "print(*num, sep='\\n')\n",
    "# 메모리 아웃\n",
    "# for문 안에서 append를 사용하게 되면 메모리 재할당이 이루어져 메모리를 효율적으로 사용하지 못함"
   ]
  },
  {
   "cell_type": "code",
   "execution_count": 2,
   "metadata": {},
   "outputs": [],
   "source": [
    "import sys\n",
    "n = int(input())\n",
    "num_list = [0]*10001 # 입력될 수가 10000까지의 범위를 가지므로 길이 10000의 빈 리스트(인덱스 편의를 위해 10001)를 생성\n",
    "for _ in range(n):\n",
    "    num_list[int(sys.stdin.readline())] += 1 # 입력된 수에 해당하는 인덱스 리스트 값에 1씩 더해줌\n",
    "for i in range(len(num_list)):\n",
    "    if num_list[i] != 0: # 입력된 적이 있다면 출력\n",
    "        for j in range(num_list[i]): # 나온 수 만큼 출력\n",
    "            print(i)"
   ]
  }
 ],
 "metadata": {
  "kernelspec": {
   "display_name": "base",
   "language": "python",
   "name": "python3"
  },
  "language_info": {
   "codemirror_mode": {
    "name": "ipython",
    "version": 3
   },
   "file_extension": ".py",
   "mimetype": "text/x-python",
   "name": "python",
   "nbconvert_exporter": "python",
   "pygments_lexer": "ipython3",
   "version": "3.10.9"
  },
  "orig_nbformat": 4
 },
 "nbformat": 4,
 "nbformat_minor": 2
}
