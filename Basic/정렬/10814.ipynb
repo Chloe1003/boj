{
 "cells": [
  {
   "cell_type": "code",
   "execution_count": 16,
   "metadata": {},
   "outputs": [],
   "source": [
    "member = []\n",
    "for _ in range(int(input())):\n",
    "    member.append(input())\n",
    "print(*sorted(member, key=lambda x: (x[:2], member.index(x))), sep='\\n')\n",
    "\n",
    "# 시간초과"
   ]
  },
  {
   "cell_type": "code",
   "execution_count": 31,
   "metadata": {},
   "outputs": [
    {
     "name": "stdout",
     "output_type": "stream",
     "text": [
      "(20, 'Sunyoung')\n",
      "(21, 'Junkyu')\n",
      "(21, 'Dohyun')\n"
     ]
    }
   ],
   "source": [
    "# 파이썬 내장 함수의 정렬은 stable sort를 수행\n",
    "# stable sort는 동일한 값이 정렬 될 경우, 입력 기준 순서가 바뀌지 않음\n",
    "# 따라서 나이를 기준으로 정렬 시 나이가 동일한 경우 가입 순서가 유지되기 때문에 정렬 기준으로 나이만 고려하면 됨\n",
    "member = []\n",
    "for _ in range(int(input())):\n",
    "    age, name = map(str, input().split())\n",
    "    age = int(age)\n",
    "    member.append((age, name))\n",
    "member.sort(key=lambda x: (x[0]))\n",
    "for i in member:\n",
    "    print(i[0], i[1])"
   ]
  }
 ],
 "metadata": {
  "kernelspec": {
   "display_name": "base",
   "language": "python",
   "name": "python3"
  },
  "language_info": {
   "codemirror_mode": {
    "name": "ipython",
    "version": 3
   },
   "file_extension": ".py",
   "mimetype": "text/x-python",
   "name": "python",
   "nbconvert_exporter": "python",
   "pygments_lexer": "ipython3",
   "version": "3.10.9"
  },
  "orig_nbformat": 4
 },
 "nbformat": 4,
 "nbformat_minor": 2
}
