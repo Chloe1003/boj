{
 "cells": [
  {
   "cell_type": "code",
   "execution_count": 1,
   "metadata": {},
   "outputs": [
    {
     "name": "stdout",
     "output_type": "stream",
     "text": [
      "1\n",
      "2\n",
      "3\n",
      "4\n",
      "5\n"
     ]
    }
   ],
   "source": [
    "num = []\n",
    "for _ in range(int(input())):\n",
    "    num.append(int(input()))\n",
    "num.sort()\n",
    "print(*num, sep='\\n')\n",
    "\n",
    "# 시간초과"
   ]
  },
  {
   "cell_type": "code",
   "execution_count": 1,
   "metadata": {},
   "outputs": [],
   "source": [
    "import sys\n",
    "num = []\n",
    "for _ in range(int(input())):\n",
    "    num.append(int(sys.stdin.readline()))\n",
    "num.sort()\n",
    "print(*num, sep='\\n')"
   ]
  },
  {
   "cell_type": "code",
   "execution_count": null,
   "metadata": {},
   "outputs": [],
   "source": [
    "# sort 함수의 인자로 key를 사용할 수 있음\n",
    "num_list=[[1,2],[2,2],[1,1],[2,1]]\n",
    "num_list.sort(key = lambda x : (x[1],-x[0]))\n",
    "# 각 원소들의 1번째 인덱스를 기준으로 오름차순, 1번째 인덱스가 같다면 0번째 인덱스를 기준으로 내림차순으로 정렬"
   ]
  }
 ],
 "metadata": {
  "kernelspec": {
   "display_name": "base",
   "language": "python",
   "name": "python3"
  },
  "language_info": {
   "codemirror_mode": {
    "name": "ipython",
    "version": 3
   },
   "file_extension": ".py",
   "mimetype": "text/x-python",
   "name": "python",
   "nbconvert_exporter": "python",
   "pygments_lexer": "ipython3",
   "version": "3.10.9"
  },
  "orig_nbformat": 4
 },
 "nbformat": 4,
 "nbformat_minor": 2
}
