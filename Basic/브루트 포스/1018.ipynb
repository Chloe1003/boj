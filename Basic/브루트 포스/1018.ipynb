{
 "cells": [
  {
   "cell_type": "code",
   "execution_count": null,
   "metadata": {},
   "outputs": [],
   "source": [
    "n, m = map(int, input().split())\n",
    "board = []\n",
    "for _ in range(n):\n",
    "    board.append(input())"
   ]
  },
  {
   "cell_type": "code",
   "execution_count": 2,
   "metadata": {},
   "outputs": [],
   "source": [
    "n, m = 10, 13"
   ]
  },
  {
   "cell_type": "code",
   "execution_count": null,
   "metadata": {},
   "outputs": [],
   "source": [
    "# 8*8 크기의 공간에 대해 칠해야 하는 수를 구함 -> sliding 해가며 모두 구해서 최솟값 반환\n",
    "# 앞과 뒤를 비교해서 같으면 +1하고 변경\n",
    "\n",
    "num = 0\n",
    "for i in range(n):\n",
    "    for j in range(m-1):\n",
    "        if i > 0 and j == 0:\n",
    "            if board[i][j] == board[i-1][j]:\n",
    "                num += 1\n",
    "                board[i][j] = 'W' if board[i][j] == 'B' else board[i][j] == 'B'\n",
    "        if board[i][j]==board[i][j+1]:\n",
    "            num += 1\n",
    "            board[i][j+1] = 'W' if board[i][j+1] == 'B' else board[i][j+1] == 'B'\n",
    "    \n",
    "\n",
    "# 13개 중 8개만 -> 13-8+1 m-7\n",
    "# 0~7\n",
    "# 1~8\n",
    "# 2~9\n",
    "# 3~10\n",
    "# 4~11\n",
    "# 5~12\n",
    "num_sum = []\n",
    "for i in range(n-7):\n",
    "    for j in range (m-7):\n",
    "        for k in range(j, j+8):\n",
    "            print(i, k)\n",
    "\n",
    "\n"
   ]
  },
  {
   "cell_type": "code",
   "execution_count": null,
   "metadata": {},
   "outputs": [],
   "source": [
    "0 0~7\n",
    "1 0~7\n",
    "2 0~7\n",
    "3 0~7\n",
    "\n",
    "7 0~7\n",
    "\n",
    "\n",
    "for i in range(10):\n",
    "    for j in range(13):\n",
    "        for k in range"
   ]
  }
 ],
 "metadata": {
  "kernelspec": {
   "display_name": "base",
   "language": "python",
   "name": "python3"
  },
  "language_info": {
   "codemirror_mode": {
    "name": "ipython",
    "version": 3
   },
   "file_extension": ".py",
   "mimetype": "text/x-python",
   "name": "python",
   "nbconvert_exporter": "python",
   "pygments_lexer": "ipython3",
   "version": "3.10.9"
  },
  "orig_nbformat": 4
 },
 "nbformat": 4,
 "nbformat_minor": 2
}
