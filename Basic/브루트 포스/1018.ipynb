{
 "cells": [
  {
   "cell_type": "code",
   "execution_count": null,
   "metadata": {},
   "outputs": [],
   "source": [
    "n, m = map(int, input().split())\n",
    "board = []\n",
    "for _ in range(n):\n",
    "    board.append(input())"
   ]
  },
  {
   "cell_type": "code",
   "execution_count": 18,
   "metadata": {},
   "outputs": [],
   "source": [
    "n, m = 10, 13\n",
    "board = [[*'BBBBBBBBWBWBW'],\n",
    "         [*'BBBBBBBBBWBWB'],\n",
    "         [*'BBBBBBBBWBWBW'],\n",
    "         [*'BBBBBBBBBWBWB'],\n",
    "         [*'BBBBBBBBWBWBW'],\n",
    "         [*'BBBBBBBBBWBWB'],\n",
    "         [*'BBBBBBBBWBWBW'],\n",
    "         [*'BBBBBBBBBWBWB'],\n",
    "         [*'WWWWWWWWWWBWB'],\n",
    "         [*'WWWWWWWWWWBWB']]"
   ]
  },
  {
   "cell_type": "code",
   "execution_count": 19,
   "metadata": {},
   "outputs": [
    {
     "data": {
      "text/plain": [
       "[['B', 'B', 'B', 'B', 'B', 'B', 'B', 'B', 'W', 'B', 'W', 'B', 'W'],\n",
       " ['B', 'B', 'B', 'B', 'B', 'B', 'B', 'B', 'B', 'W', 'B', 'W', 'B'],\n",
       " ['B', 'B', 'B', 'B', 'B', 'B', 'B', 'B', 'W', 'B', 'W', 'B', 'W'],\n",
       " ['B', 'B', 'B', 'B', 'B', 'B', 'B', 'B', 'B', 'W', 'B', 'W', 'B'],\n",
       " ['B', 'B', 'B', 'B', 'B', 'B', 'B', 'B', 'W', 'B', 'W', 'B', 'W'],\n",
       " ['B', 'B', 'B', 'B', 'B', 'B', 'B', 'B', 'B', 'W', 'B', 'W', 'B'],\n",
       " ['B', 'B', 'B', 'B', 'B', 'B', 'B', 'B', 'W', 'B', 'W', 'B', 'W'],\n",
       " ['B', 'B', 'B', 'B', 'B', 'B', 'B', 'B', 'B', 'W', 'B', 'W', 'B'],\n",
       " ['W', 'W', 'W', 'W', 'W', 'W', 'W', 'W', 'W', 'W', 'B', 'W', 'B'],\n",
       " ['W', 'W', 'W', 'W', 'W', 'W', 'W', 'W', 'W', 'W', 'B', 'W', 'B']]"
      ]
     },
     "execution_count": 19,
     "metadata": {},
     "output_type": "execute_result"
    }
   ],
   "source": [
    "board"
   ]
  },
  {
   "cell_type": "code",
   "execution_count": null,
   "metadata": {},
   "outputs": [],
   "source": [
    "# 8*8 크기의 공간에 대해 칠해야 하는 수를 구함 -> sliding 해가며 모두 구해서 최솟값 반환\n",
    "# 앞과 뒤를 비교해서 같으면 +1하고 변경\n",
    "\n",
    "num = 0\n",
    "for i in range(n):\n",
    "    for j in range(m-1):\n",
    "        if i > 0 and j == 0:\n",
    "            if board[i][j] == board[i-1][j]:\n",
    "                num += 1\n",
    "                board[i][j] = 'W' if board[i][j] == 'B' else board[i][j] == 'B'\n",
    "        if board[i][j]==board[i][j+1]:\n",
    "            num += 1\n",
    "            board[i][j+1] = 'W' if board[i][j+1] == 'B' else board[i][j+1] == 'B'\n",
    "    \n",
    "\n"
   ]
  },
  {
   "cell_type": "code",
   "execution_count": 24,
   "metadata": {},
   "outputs": [],
   "source": [
    "num_sum = []\n",
    "for i in range(n-7):\n",
    "    for j in range (m-7):\n",
    "        num = 0\n",
    "        for k in range(i, i+8):\n",
    "            for l in range(j, j+7):\n",
    "                if board[i][j] == 'B' : # B로 시작하는 경우\n",
    "                    if k//2==0 and board[k][0]=='W': \n",
    "                        num += 1; board[k][0] = 'B'\n",
    "                    elif k//2==1 and board[k][0]=='B':\n",
    "                        num += 1; board[k][0] = 'W'\n",
    "                else : # W로 시작하는 경우\n",
    "                    if k//2==0 and board[k][0]=='B': \n",
    "                        num += 1; board[k][0] = 'W'\n",
    "                    elif k//2==1 and board[k][0]=='W':\n",
    "                        num += 1; board[k][0] = 'B'\n",
    "                if board[k][l] == board[k][l+1]:\n",
    "                    num += 1\n",
    "                    board[k][l+1] = 'W' if board[k][l+1] == 'B' else board[k][l+1] == 'B'                \n",
    "        num_sum.append(num)\n"
   ]
  },
  {
   "cell_type": "code",
   "execution_count": 25,
   "metadata": {},
   "outputs": [
    {
     "data": {
      "text/plain": [
       "[3, 1, 4, 4, 4, 4, 1, 1, 3, 3, 3, 3, 8, 2, 0, 2, 2, 2]"
      ]
     },
     "execution_count": 25,
     "metadata": {},
     "output_type": "execute_result"
    }
   ],
   "source": [
    "num_sum"
   ]
  }
 ],
 "metadata": {
  "kernelspec": {
   "display_name": "base",
   "language": "python",
   "name": "python3"
  },
  "language_info": {
   "codemirror_mode": {
    "name": "ipython",
    "version": 3
   },
   "file_extension": ".py",
   "mimetype": "text/x-python",
   "name": "python",
   "nbconvert_exporter": "python",
   "pygments_lexer": "ipython3",
   "version": "3.10.9"
  },
  "orig_nbformat": 4
 },
 "nbformat": 4,
 "nbformat_minor": 2
}
