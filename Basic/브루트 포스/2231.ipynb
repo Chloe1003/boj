{
 "cells": [
  {
   "cell_type": "code",
   "execution_count": 7,
   "metadata": {},
   "outputs": [
    {
     "name": "stdout",
     "output_type": "stream",
     "text": [
      "198\n"
     ]
    }
   ],
   "source": [
    "# 풀이 찾아봄\n",
    "n = int(input())\n",
    "\n",
    "for i in range(1, n+1): # 분해합>생성자 이므로 분해합보다 작은 수에 대해 분해합을 모두 구해봄\n",
    "    num = sum((map(int, str(i))))\n",
    "    num_sum = i + num\n",
    "    if num_sum == n:\n",
    "        print(i)\n",
    "        break\n",
    "    if i == n:\n",
    "        print(0)"
   ]
  },
  {
   "cell_type": "code",
   "execution_count": null,
   "metadata": {},
   "outputs": [],
   "source": [
    "# 다른 풀이: n의 범위에 대해 모두 구해봄\n",
    "n = int(input())\n",
    "for i in range(10**6):\n",
    "    if i+sum(map(int, str(i)))==n:print(i); break\n",
    "else: print(0)"
   ]
  }
 ],
 "metadata": {
  "kernelspec": {
   "display_name": "base",
   "language": "python",
   "name": "python3"
  },
  "language_info": {
   "codemirror_mode": {
    "name": "ipython",
    "version": 3
   },
   "file_extension": ".py",
   "mimetype": "text/x-python",
   "name": "python",
   "nbconvert_exporter": "python",
   "pygments_lexer": "ipython3",
   "version": "3.10.9"
  },
  "orig_nbformat": 4
 },
 "nbformat": 4,
 "nbformat_minor": 2
}
