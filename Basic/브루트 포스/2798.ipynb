{
 "cells": [
  {
   "cell_type": "code",
   "execution_count": 37,
   "metadata": {},
   "outputs": [
    {
     "name": "stdout",
     "output_type": "stream",
     "text": [
      "21\n"
     ]
    }
   ],
   "source": [
    "n, m = map(int,input().split())\n",
    "num = list(map(int, input().split()))\n",
    "val = []\n",
    "# num에서 3개를 골라 더한 합은 m을 넘지 않으면서 가장 커야 함\n",
    "for i in range(n-2):\n",
    "    for j in range(i+1, n-1):\n",
    "        for k in range(j+1, n):\n",
    "            if num[i]+num[j]+num[k] <= m:\n",
    "                val.append(num[i]+num[j]+num[k])\n",
    "\n",
    "print(max(val))"
   ]
  },
  {
   "cell_type": "code",
   "execution_count": 2,
   "metadata": {},
   "outputs": [
    {
     "name": "stdout",
     "output_type": "stream",
     "text": [
      "21\n"
     ]
    }
   ],
   "source": [
    "# 다른 풀이\n",
    "from itertools import combinations\n",
    "n, m = map(int,input().split())\n",
    "num = list(map(int, input().split()))\n",
    "# value = []\n",
    "# for i in combinations(num, 3):\n",
    "#     if sum(i) <= m :\n",
    "#         value.append(sum(i))\n",
    "# print(max(value))\n",
    "print(max([sum(i) for i in combinations(num, 3) if sum(i) <= m]))"
   ]
  }
 ],
 "metadata": {
  "kernelspec": {
   "display_name": "base",
   "language": "python",
   "name": "python3"
  },
  "language_info": {
   "codemirror_mode": {
    "name": "ipython",
    "version": 3
   },
   "file_extension": ".py",
   "mimetype": "text/x-python",
   "name": "python",
   "nbconvert_exporter": "python",
   "pygments_lexer": "ipython3",
   "version": "3.10.9"
  },
  "orig_nbformat": 4
 },
 "nbformat": 4,
 "nbformat_minor": 2
}
