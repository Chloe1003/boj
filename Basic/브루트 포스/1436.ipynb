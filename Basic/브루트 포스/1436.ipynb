{
 "cells": [
  {
   "cell_type": "code",
   "execution_count": 12,
   "metadata": {},
   "outputs": [
    {
     "name": "stdout",
     "output_type": "stream",
     "text": [
      "166699\n"
     ]
    }
   ],
   "source": [
    "n = int(input())\n",
    "num = 666\n",
    "title = []\n",
    "while True:\n",
    "    if '666' in str(num):\n",
    "        title.append(num)\n",
    "    if len(title)==n:\n",
    "        print(title[n-1])\n",
    "        break\n",
    "    num += 1"
   ]
  }
 ],
 "metadata": {
  "kernelspec": {
   "display_name": "base",
   "language": "python",
   "name": "python3"
  },
  "language_info": {
   "codemirror_mode": {
    "name": "ipython",
    "version": 3
   },
   "file_extension": ".py",
   "mimetype": "text/x-python",
   "name": "python",
   "nbconvert_exporter": "python",
   "pygments_lexer": "ipython3",
   "version": "3.9.12"
  },
  "orig_nbformat": 4
 },
 "nbformat": 4,
 "nbformat_minor": 2
}
