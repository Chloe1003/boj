{
 "cells": [
  {
   "cell_type": "code",
   "execution_count": 7,
   "metadata": {},
   "outputs": [
    {
     "name": "stdout",
     "output_type": "stream",
     "text": [
      "21\n",
      "2\n"
     ]
    }
   ],
   "source": [
    "# MenOfPassion(A[], n) {\n",
    "#     sum <- 0;\n",
    "#     for i <- 1 to n - 1\n",
    "#         for j <- i + 1 to n\n",
    "#             sum <- sum + A[i] × A[j]; # 코드1\n",
    "#     return sum;\n",
    "# }\n",
    "\n",
    "# n = 7\n",
    "# def cal(a, n):\n",
    "#     sum = 0\n",
    "#     for i in range(1, n):\n",
    "#         for j in range(i+1, n+1):\n",
    "#             sum += a[i] * a[j]\n",
    "#     return sum\n",
    "\n",
    "# a = [1]*(n+1)\n",
    "# print(cal(a, n))\n",
    "\n",
    "# 코드 1은 n^2에 비례해 수행됨 -> 시간 복잡도 O(n2)\n",
    "n = int(input())\n",
    "print(((n-1)*n)//2, 2, sep='\\n')"
   ]
  }
 ],
 "metadata": {
  "kernelspec": {
   "display_name": "base",
   "language": "python",
   "name": "python3"
  },
  "language_info": {
   "codemirror_mode": {
    "name": "ipython",
    "version": 3
   },
   "file_extension": ".py",
   "mimetype": "text/x-python",
   "name": "python",
   "nbconvert_exporter": "python",
   "pygments_lexer": "ipython3",
   "version": "3.10.9"
  },
  "orig_nbformat": 4
 },
 "nbformat": 4,
 "nbformat_minor": 2
}
