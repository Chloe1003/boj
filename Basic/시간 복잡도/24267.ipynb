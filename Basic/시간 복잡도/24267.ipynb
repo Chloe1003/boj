{
 "cells": [
  {
   "cell_type": "code",
   "execution_count": 3,
   "metadata": {},
   "outputs": [
    {
     "name": "stdout",
     "output_type": "stream",
     "text": [
      "35 3\n"
     ]
    }
   ],
   "source": [
    "# MenOfPassion(A[], n) {\n",
    "#     sum <- 0;\n",
    "#     for i <- 1 to n - 2\n",
    "#         for j <- i + 1 to n - 1\n",
    "#             for k <- j + 1 to n\n",
    "#                 sum <- sum + A[i] × A[j] × A[k]; # 코드1\n",
    "#     return sum;\n",
    "# }\n",
    "\n",
    "# 코드 1은 n^3에 비례해 수행됨 -> 시간 복잡도 O(n2)\n",
    "# 수행횟수 \n",
    "# i : 1 ~ n-2    \n",
    "# j : i+1 ~ n-1\n",
    "# k : j+1 ~ n\n",
    "# n = 7 \n",
    "# i = 1, j = 2, k = 3~7(5개)\n",
    "#        j = 3, k = 4~7(4) \n",
    "#        j = 4, \n",
    "#        j = 5\n",
    "#        j = 6\n",
    "# nC3 = n!/(n-3)!*3!\n",
    "n = int(input())\n",
    "print((n*(n-1)*(n-2))//6, 3, sep='\\n')"
   ]
  }
 ],
 "metadata": {
  "kernelspec": {
   "display_name": "base",
   "language": "python",
   "name": "python3"
  },
  "language_info": {
   "codemirror_mode": {
    "name": "ipython",
    "version": 3
   },
   "file_extension": ".py",
   "mimetype": "text/x-python",
   "name": "python",
   "nbconvert_exporter": "python",
   "pygments_lexer": "ipython3",
   "version": "3.10.9"
  },
  "orig_nbformat": 4
 },
 "nbformat": 4,
 "nbformat_minor": 2
}
