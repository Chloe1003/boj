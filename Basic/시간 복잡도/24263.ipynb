{
 "cells": [
  {
   "cell_type": "code",
   "execution_count": 2,
   "metadata": {},
   "outputs": [
    {
     "name": "stdout",
     "output_type": "stream",
     "text": [
      "7\n",
      "1\n"
     ]
    }
   ],
   "source": [
    "# MenOfPassion(A[], n) {\n",
    "#     sum <- 0;\n",
    "#     for i <- 1 to n\n",
    "#         sum <- sum + A[i]; # 코드1\n",
    "#     return sum;\n",
    "# }\n",
    "\n",
    "# 코드 1은 n에 비례해 수행됨 -> 시간 복잡도 O(n)\n",
    "print(int(input()), 1, sep='\\n')"
   ]
  }
 ],
 "metadata": {
  "kernelspec": {
   "display_name": "base",
   "language": "python",
   "name": "python3"
  },
  "language_info": {
   "codemirror_mode": {
    "name": "ipython",
    "version": 3
   },
   "file_extension": ".py",
   "mimetype": "text/x-python",
   "name": "python",
   "nbconvert_exporter": "python",
   "pygments_lexer": "ipython3",
   "version": "3.10.9"
  },
  "orig_nbformat": 4
 },
 "nbformat": 4,
 "nbformat_minor": 2
}
